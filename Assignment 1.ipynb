{
  "cells": [
    {
      "cell_type": "markdown",
      "metadata": {
        "id": "view-in-github",
        "colab_type": "text"
      },
      "source": [
        "<a href=\"https://colab.research.google.com/github/Easypuma/AI/blob/main/Assignment%201.ipynb\" target=\"_parent\"><img src=\"https://colab.research.google.com/assets/colab-badge.svg\" alt=\"Open In Colab\"/></a>"
      ]
    },
    {
      "cell_type": "markdown",
      "id": "759d04ba",
      "metadata": {
        "id": "759d04ba"
      },
      "source": [
        "**1-Write a Python program to calculate the length of a string using 2 ways"
      ]
    },
    {
      "cell_type": "code",
      "execution_count": null,
      "id": "e434c950",
      "metadata": {
        "id": "e434c950",
        "colab": {
          "base_uri": "https://localhost:8080/"
        },
        "outputId": "f9ef74c4-f566-4555-933c-9b0e9bb86819"
      },
      "outputs": [
        {
          "output_type": "stream",
          "name": "stdout",
          "text": [
            "plz Enter a string Omar\n",
            "the length os string =  4\n"
          ]
        }
      ],
      "source": [
        "# Method 1\n",
        "\n",
        "string =input(\"plz Enter a string \")\n",
        "count = 0\n",
        "for i in string:\n",
        "  count+=1\n",
        "print(\"the length os string = \" , count)"
      ]
    },
    {
      "cell_type": "markdown",
      "source": [],
      "metadata": {
        "id": "qaKYbmVemrqC"
      },
      "id": "qaKYbmVemrqC"
    },
    {
      "cell_type": "code",
      "execution_count": null,
      "id": "7a2dfa32",
      "metadata": {
        "id": "7a2dfa32",
        "colab": {
          "base_uri": "https://localhost:8080/"
        },
        "outputId": "658eb151-a3ac-40ac-d566-817718a40435"
      },
      "outputs": [
        {
          "output_type": "stream",
          "name": "stdout",
          "text": [
            "plz enter a string omar Allam\n",
            "length os string =  10\n"
          ]
        }
      ],
      "source": [
        "# Method 2\n",
        "word = input(\"plz enter a string \")\n",
        "length = len(word)\n",
        "print(\"length os string = \" , length)"
      ]
    },
    {
      "cell_type": "markdown",
      "id": "d7cc9da7",
      "metadata": {
        "id": "d7cc9da7"
      },
      "source": [
        "**2-Write a Python program to get a string made of the first 2 and last 2 characters of a given string. If the string length is less than 2, return the empty string instead (\"##Sample String : 'w3resource'\n",
        "Expected Result : 'w3ce'\n",
        "##Sample String : 'w3'\n",
        "Expected Result : 'w3w3'\n",
        "##Sample String : ' w'\n",
        "Expected Result : Empty String)"
      ]
    },
    {
      "cell_type": "code",
      "execution_count": null,
      "id": "dafa9dd8",
      "metadata": {
        "id": "dafa9dd8",
        "colab": {
          "base_uri": "https://localhost:8080/"
        },
        "outputId": "8b4ca02b-5d5f-4fcd-f4a8-b67cbb31ed32"
      },
      "outputs": [
        {
          "output_type": "stream",
          "name": "stdout",
          "text": [
            "enter A string Omarallam\n",
            "Omam\n"
          ]
        }
      ],
      "source": [
        "string = input(\"enter A string \")\n",
        "new_string = string[0:2] + string[-2:]\n",
        "if len(string) < 2:\n",
        "  print(\"empty string\")\n",
        "else:\n",
        "  print(new_string)\n"
      ]
    },
    {
      "cell_type": "markdown",
      "id": "1534f956",
      "metadata": {
        "id": "1534f956"
      },
      "source": [
        "**3-Write a Python program to add 'ing' at the end of a given string (length should be at least 3). If the given string already ends with 'ing', add 'ly' instead. If the string length of the given string is less than 3, leave it unchanged. (Sample String : 'abc'\n",
        "Expected Result : 'abcing')"
      ]
    },
    {
      "cell_type": "code",
      "execution_count": null,
      "id": "7ff8cec4",
      "metadata": {
        "id": "7ff8cec4",
        "colab": {
          "base_uri": "https://localhost:8080/"
        },
        "outputId": "8ec96aca-e9d7-4553-9467-aa80a945986e"
      },
      "outputs": [
        {
          "output_type": "stream",
          "name": "stdout",
          "text": [
            "enter a string do\n",
            "do\n"
          ]
        }
      ],
      "source": [
        "string= input(\"enter a string \")\n",
        "if len(string) < 3:\n",
        "  print(string)\n",
        "elif string[-3:] == 'ing':\n",
        "  new_string = string + 'ly'\n",
        "  print(new_string)\n",
        "else:\n",
        "  new_string = string + 'ing'\n",
        "  print(new_string)\n"
      ]
    },
    {
      "cell_type": "markdown",
      "id": "1c0a6627",
      "metadata": {
        "id": "1c0a6627"
      },
      "source": [
        "**4-Write a Python function that takes a list of words and return the longest word and the length of the longest one\n",
        "(Longest word: Exercises\n",
        "Length of the longest word: 9)"
      ]
    },
    {
      "cell_type": "code",
      "execution_count": null,
      "id": "397341d9",
      "metadata": {
        "id": "397341d9",
        "colab": {
          "base_uri": "https://localhost:8080/"
        },
        "outputId": "ae8f73c2-2325-48b9-ba94-879b8510536a"
      },
      "outputs": [
        {
          "output_type": "stream",
          "name": "stdout",
          "text": [
            "the longest word is  Mohamed\n",
            "the length of the longest word is  7\n"
          ]
        }
      ],
      "source": [
        "list1 = [\"Omar\" , \"Mohamed\" , \"Ahmed\" , \"Moaz\" , \"ALi\"]\n",
        "counter = 0\n",
        "word = \"\"\n",
        "for i in list1:\n",
        "  if len(i) > counter:\n",
        "    counter = len(i)\n",
        "    word = i\n",
        "\n",
        "print(\"the longest word is \" , word)\n",
        "print(\"the length of the longest word is \" , counter)\n",
        "\n",
        "\n"
      ]
    },
    {
      "cell_type": "markdown",
      "source": [
        "5- Write a python program to change a given string to a newly string where the first and last char have been exchanged using 2 ways"
      ],
      "metadata": {
        "id": "ijfWivrk3uk5"
      },
      "id": "ijfWivrk3uk5"
    },
    {
      "cell_type": "markdown",
      "id": "53a03a6a",
      "metadata": {
        "id": "53a03a6a"
      },
      "source": []
    },
    {
      "cell_type": "code",
      "execution_count": null,
      "id": "fd327d2a",
      "metadata": {
        "id": "fd327d2a",
        "colab": {
          "base_uri": "https://localhost:8080/"
        },
        "outputId": "2089a156-155c-4cde-dd98-cf9f114279d8"
      },
      "outputs": [
        {
          "output_type": "stream",
          "name": "stdout",
          "text": [
            "enter a string omar\n",
            "rmao\n"
          ]
        }
      ],
      "source": [
        "# Method 1\n",
        "string = input(\"enter a string \")\n",
        "new_string = string[-1] + string[1:-1] + string[0]\n",
        "print(new_string)"
      ]
    },
    {
      "cell_type": "code",
      "execution_count": null,
      "id": "285788b4",
      "metadata": {
        "id": "285788b4"
      },
      "outputs": [],
      "source": [
        "# Method 2\n",
        "\n",
        "\n",
        "\n"
      ]
    },
    {
      "cell_type": "markdown",
      "id": "25f89808",
      "metadata": {
        "id": "25f89808"
      },
      "source": [
        "**6-Write a Python program to remove characters that have odd index values in a given string (Sample String:abca Expected Result:ac)"
      ]
    },
    {
      "cell_type": "code",
      "execution_count": 5,
      "id": "05959bd7",
      "metadata": {
        "id": "05959bd7",
        "colab": {
          "base_uri": "https://localhost:8080/"
        },
        "outputId": "353bf324-5e00-482c-e6fc-a3f376e1b6a2"
      },
      "outputs": [
        {
          "output_type": "stream",
          "name": "stdout",
          "text": [
            "enter a string omar\n",
            "the string is  oa\n"
          ]
        }
      ],
      "source": [
        "string =input(\"enter a string \")\n",
        "new_string = \"\"\n",
        "for i in range(len(string)):\n",
        "  if i % 2 == 0:\n",
        "    new_string += string[i]\n",
        "print( \"the string is \" ,new_string)"
      ]
    },
    {
      "cell_type": "markdown",
      "id": "eb16e898",
      "metadata": {
        "id": "eb16e898"
      },
      "source": [
        "**7. You have a list of your favourite marvel super heros.\n",
        "```\n",
        "heros=['spider man','thor','hulk','iron man','captain america']\n",
        "```\n",
        "\n",
        "Using this find out,\n",
        "\n",
        "    1. Length of the list\n",
        "    2. Add 'black panther' at the end of this list\n",
        "    3. You realize that you need to add 'black panther' after 'hulk',\n",
        "       so remove it from the list first and then add it after 'hulk'\n",
        "    4. Now you don't like thor and hulk because they get angry easily :)\n",
        "       So you want to remove thor and hulk from list and replace them with doctor strange (because he is cool).\n",
        "       Do that with one line of code.\n",
        "    5. Sort the heros list in alphabetical order (Hint. Use dir() functions to list down all functions available in list)"
      ]
    },
    {
      "cell_type": "code",
      "execution_count": 13,
      "id": "01ce6cf5",
      "metadata": {
        "id": "01ce6cf5",
        "colab": {
          "base_uri": "https://localhost:8080/"
        },
        "outputId": "923cf306-dbdc-45a8-fe35-9320ae610453"
      },
      "outputs": [
        {
          "output_type": "stream",
          "name": "stdout",
          "text": [
            "length of the list is  5\n",
            "the new list is  ['spider man', 'thor', 'hulk', 'iron man', 'captain america', 'black panther']\n",
            "['spider man', 'thor', 'hulk', 'black panther', 'iron man', 'captain america']\n",
            "['spider man', 'doctor strange', 'black panther', 'iron man', 'captain america']\n",
            "['__add__', '__class__', '__class_getitem__', '__contains__', '__delattr__', '__delitem__', '__dir__', '__doc__', '__eq__', '__format__', '__ge__', '__getattribute__', '__getitem__', '__gt__', '__hash__', '__iadd__', '__imul__', '__init__', '__init_subclass__', '__iter__', '__le__', '__len__', '__lt__', '__mul__', '__ne__', '__new__', '__reduce__', '__reduce_ex__', '__repr__', '__reversed__', '__rmul__', '__setattr__', '__setitem__', '__sizeof__', '__str__', '__subclasshook__', 'append', 'clear', 'copy', 'count', 'extend', 'index', 'insert', 'pop', 'remove', 'reverse', 'sort']\n",
            "['black panther', 'captain america', 'doctor strange', 'iron man', 'spider man']\n"
          ]
        }
      ],
      "source": [
        "#1\n",
        "heros=['spider man','thor','hulk','iron man','captain america']\n",
        "print(\"length of the list is \" , len(heros))\n",
        "\n",
        "#2\n",
        "heros.append('black panther')\n",
        "print(\"the new list is \" , heros)\n",
        "\n",
        "#3\n",
        "heros.remove('black panther')\n",
        "heros.insert(3,'black panther')\n",
        "print(heros)\n",
        "\n",
        "#4\n",
        "heros[1:3] = ['doctor strange']\n",
        "print(heros)\n",
        "\n",
        "#5\n",
        "print(dir(heros))\n",
        "heros.sort()\n",
        "print(heros)"
      ]
    },
    {
      "cell_type": "markdown",
      "id": "4e8125f1",
      "metadata": {
        "id": "4e8125f1"
      },
      "source": [
        "**8-Write a Python script that takes input from the user and displays that input back in upper and lower cases"
      ]
    },
    {
      "cell_type": "code",
      "execution_count": 14,
      "id": "66c8f778",
      "metadata": {
        "id": "66c8f778",
        "colab": {
          "base_uri": "https://localhost:8080/"
        },
        "outputId": "27450d35-7e46-4347-c677-79088fe2c6ed"
      },
      "outputs": [
        {
          "output_type": "stream",
          "name": "stdout",
          "text": [
            "enter a string OMar\n",
            "the string in upper case is  OMAR\n",
            "the string in lower case is  omar\n"
          ]
        }
      ],
      "source": [
        "string = input(\"enter a string \")\n",
        "print(\"the string in upper case is \" , string.upper())\n",
        "print(\"the string in lower case is \" , string.lower())\n"
      ]
    },
    {
      "cell_type": "markdown",
      "id": "fcd68aa1",
      "metadata": {
        "id": "fcd68aa1"
      },
      "source": [
        "**9-Write a Python function to reverse a string if its length is a multiple of 4"
      ]
    },
    {
      "cell_type": "code",
      "execution_count": 17,
      "id": "0671a931",
      "metadata": {
        "id": "0671a931",
        "colab": {
          "base_uri": "https://localhost:8080/"
        },
        "outputId": "bb412fb5-f53c-4c59-e425-6f671ca016bd"
      },
      "outputs": [
        {
          "output_type": "stream",
          "name": "stdout",
          "text": [
            "enter a string Omar\n",
            "Reversed string is  ramO\n"
          ]
        }
      ],
      "source": [
        "string = input(\"enter a string \")\n",
        "if len(string) % 4 == 0:\n",
        "  print(\"Reversed string is \", string[::-1])\n",
        "else:\n",
        "  print(string)"
      ]
    },
    {
      "cell_type": "markdown",
      "id": "b577c68d",
      "metadata": {
        "id": "b577c68d"
      },
      "source": [
        "**10- Write a Python program to remove a newline in Python"
      ]
    },
    {
      "cell_type": "code",
      "execution_count": 21,
      "id": "e0c6525a",
      "metadata": {
        "id": "e0c6525a",
        "colab": {
          "base_uri": "https://localhost:8080/"
        },
        "outputId": "e0ca21f0-4158-4b71-f60c-b4097b5a3d84"
      },
      "outputs": [
        {
          "output_type": "stream",
          "name": "stdout",
          "text": [
            "enter a string Omar\n",
            "Omar\n"
          ]
        }
      ],
      "source": [
        "string = input(\"enter a string \")\n",
        "print(string.replace('\\n',''))"
      ]
    },
    {
      "cell_type": "markdown",
      "id": "593a68db",
      "metadata": {
        "id": "593a68db"
      },
      "source": [
        "**11- Write a Python program to add prefix text to all of the lines in a string"
      ]
    },
    {
      "cell_type": "code",
      "execution_count": 22,
      "id": "0cc4e03e",
      "metadata": {
        "id": "0cc4e03e",
        "colab": {
          "base_uri": "https://localhost:8080/"
        },
        "outputId": "bea4487d-c458-49f6-b2cd-b734023f69cc"
      },
      "outputs": [
        {
          "output_type": "stream",
          "name": "stdout",
          "text": [
            "enter a string Omar\n",
            "enter a prefix Allam\n",
            "AllamOmar\n"
          ]
        }
      ],
      "source": [
        "string = input(\"enter a string \")\n",
        "prefix = input(\"enter a prefix \")\n",
        "new_string = prefix + string\n",
        "print(new_string)"
      ]
    },
    {
      "cell_type": "markdown",
      "id": "86fa1543",
      "metadata": {
        "id": "86fa1543"
      },
      "source": [
        "**12-Write a Python program to print the following numbers up to 2 decimal places\n",
        "\n",
        "ex:\n",
        "Original Number:  3.1415926                                                                                   \n",
        "Formatted Number: 3.14                                                                                        \n",
        "Original Number:  12.9999                                                                                     \n",
        "Formatted Number: 13.00  \n"
      ]
    },
    {
      "cell_type": "code",
      "execution_count": 25,
      "id": "cd4a9d89",
      "metadata": {
        "id": "cd4a9d89",
        "colab": {
          "base_uri": "https://localhost:8080/"
        },
        "outputId": "6088babf-7c8d-4aa4-c657-83c2f38c68de"
      },
      "outputs": [
        {
          "output_type": "stream",
          "name": "stdout",
          "text": [
            "enter a number 3.1415926\n",
            "the original number is  3.1415926\n",
            "the formatted number is  3.14\n",
            "enter a number 12.99999\n",
            "the original number is  12.99999\n",
            "The formatted number is  13.00\n"
          ]
        }
      ],
      "source": [
        "# method 1\n",
        "number = eval(input(\"enter a number \"))\n",
        "print(\"the original number is \" , number)\n",
        "print(\"the formatted number is \" , round(number,2))\n",
        "\n",
        "# Method 2\n",
        "number = eval(input(\"enter a number \"))\n",
        "print(\"the original number is \" , number)\n",
        "print( \"The formatted number is \" ,f\"{number:.2f}\")"
      ]
    },
    {
      "cell_type": "markdown",
      "id": "452c0ab0",
      "metadata": {
        "id": "452c0ab0"
      },
      "source": [
        "**13-Write a Python program to print the following numbers up to 2 decimal places with a sign"
      ]
    },
    {
      "cell_type": "code",
      "execution_count": 30,
      "id": "73e82479",
      "metadata": {
        "id": "73e82479",
        "colab": {
          "base_uri": "https://localhost:8080/"
        },
        "outputId": "03094417-ffd7-4d13-bb32-fc67a301813b"
      },
      "outputs": [
        {
          "output_type": "stream",
          "name": "stdout",
          "text": [
            "enter a number 0\n",
            "enter a number 0\n",
            "enter a number 0\n",
            "enter a number -12.98\n",
            "the original number is  -12.98\n",
            "The formatted number is  -12.98\n"
          ]
        }
      ],
      "source": [
        "number = eval(input(\"enter a number \"))\n",
        "while number == 0:\n",
        "  number = eval(input(\"enter a number \"))\n",
        "print(\"the original number is \" , number)\n",
        "print( \"The formatted number is \" ,f\"{number:+.2f}\")"
      ]
    },
    {
      "cell_type": "markdown",
      "id": "32b1811a",
      "metadata": {
        "id": "32b1811a"
      },
      "source": [
        "**14-Write a Python program to display a number with a comma separator"
      ]
    },
    {
      "cell_type": "code",
      "execution_count": 41,
      "id": "f30fc0b6",
      "metadata": {
        "id": "f30fc0b6",
        "colab": {
          "base_uri": "https://localhost:8080/"
        },
        "outputId": "d151c0e8-cca9-4cbd-f6a1-eef61f5152e1"
      },
      "outputs": [
        {
          "output_type": "stream",
          "name": "stdout",
          "text": [
            "enter a number 123456\n",
            "the original number is  123456\n",
            "The formatted number is  123,456\n"
          ]
        }
      ],
      "source": [
        "number = eval(input(\"enter a number \"))\n",
        "print(\"the original number is \" , number)\n",
        "print( \"The formatted number is \" , f\"{number:,}\")"
      ]
    },
    {
      "cell_type": "markdown",
      "source": [],
      "metadata": {
        "id": "bComxjuCQxdY"
      },
      "id": "bComxjuCQxdY"
    },
    {
      "cell_type": "markdown",
      "id": "0477f487",
      "metadata": {
        "id": "0477f487"
      },
      "source": [
        "**15-Write a Python program to reverse a string using 2 ways"
      ]
    },
    {
      "cell_type": "code",
      "execution_count": 48,
      "id": "aa8beec8",
      "metadata": {
        "id": "aa8beec8",
        "colab": {
          "base_uri": "https://localhost:8080/"
        },
        "outputId": "23b3bd89-eea2-487c-cc07-6f47a5b38846"
      },
      "outputs": [
        {
          "output_type": "stream",
          "name": "stdout",
          "text": [
            "enter a string Omar\n",
            "reversed string is  ramO\n",
            "enter a string Allam\n",
            "reversed string is  mallA\n"
          ]
        }
      ],
      "source": [
        "# Method 1\n",
        "string= input(\"enter a string \")\n",
        "new_string = string[::-1]\n",
        "print(\"reversed string is \", new_string)\n",
        "\n",
        "# Method 2\n",
        "string= input(\"enter a string \")\n",
        "new_string = \"\"\n",
        "for i in (string):\n",
        "  new_string =  i + new_string\n",
        "print(\"reversed string is \", new_string)"
      ]
    },
    {
      "cell_type": "markdown",
      "id": "3adf5669",
      "metadata": {
        "id": "3adf5669"
      },
      "source": [
        "**16-Write a Python program to remove spaces from a given string"
      ]
    },
    {
      "cell_type": "code",
      "execution_count": 52,
      "id": "b4f22602",
      "metadata": {
        "id": "b4f22602",
        "colab": {
          "base_uri": "https://localhost:8080/"
        },
        "outputId": "68cfad04-ac50-4777-94de-2e9a82530138"
      },
      "outputs": [
        {
          "output_type": "stream",
          "name": "stdout",
          "text": [
            "enter a string Omar Allam\n",
            "new string is  OmarAllam\n"
          ]
        }
      ],
      "source": [
        "string = input(\"enter a string \")\n",
        "new_string = string.replace(' ','')\n",
        "print(\"new string is \" , new_string)"
      ]
    },
    {
      "cell_type": "markdown",
      "id": "509998e2",
      "metadata": {
        "id": "509998e2"
      },
      "source": [
        "**17-write a Python program to swap first and last element of any list."
      ]
    },
    {
      "cell_type": "code",
      "execution_count": 54,
      "id": "68692d7f",
      "metadata": {
        "id": "68692d7f",
        "colab": {
          "base_uri": "https://localhost:8080/"
        },
        "outputId": "fcc58c54-c371-44df-c48c-b5e629988e2f"
      },
      "outputs": [
        {
          "output_type": "stream",
          "name": "stdout",
          "text": [
            "the swapped list is  ['Allam', 'Hassan', 'Omar']\n"
          ]
        }
      ],
      "source": [
        "list1 = [\"Omar\", \"Hassan\", \"Allam\"]\n",
        "list1[0],list1[-1] = list1[-1],list1[0]\n",
        "print(\"the swapped list is \" , list1)\n"
      ]
    },
    {
      "cell_type": "markdown",
      "id": "959e0837",
      "metadata": {
        "id": "959e0837"
      },
      "source": [
        "**18-Given a list in Python and provided the positions of the elements, write a program to swap the two elements in the list. (Input : List = [23, 65, 19, 90], pos1 = 1, pos2 = 3\n",
        "Output : [19, 65, 23, 90])"
      ]
    },
    {
      "cell_type": "code",
      "execution_count": null,
      "id": "225d8c6d",
      "metadata": {
        "id": "225d8c6d"
      },
      "outputs": [],
      "source": [
        "list1 = [23, 65, 19, 90]\n",
        "\n",
        "\n"
      ]
    },
    {
      "cell_type": "markdown",
      "id": "66fc6682",
      "metadata": {
        "id": "66fc6682"
      },
      "source": [
        "**19- search for the all ways to know the length of the list"
      ]
    },
    {
      "cell_type": "code",
      "execution_count": 58,
      "id": "SXxZeSP45yDo",
      "metadata": {
        "id": "SXxZeSP45yDo",
        "colab": {
          "base_uri": "https://localhost:8080/"
        },
        "outputId": "d0a0f838-86a4-480d-b282-8013ae06893c"
      },
      "outputs": [
        {
          "output_type": "stream",
          "name": "stdout",
          "text": [
            "the length of the list is  3\n",
            "the length of the list is  3\n",
            "the length of the list is  3\n"
          ]
        }
      ],
      "source": [
        "#1\n",
        "list1 = [\"Omar\", \"Hassan\", \"Allam\"]\n",
        "print(\"the length of the list is \" , len(list1))\n",
        "\n",
        "#2\n",
        "list1 = [\"Omar\", \"Hassan\", \"Allam\"]\n",
        "count = 0\n",
        "for i in list1:\n",
        "  count+=1\n",
        "print(\"the length of the list is \" , count)\n",
        "\n",
        "#3\n",
        "list1 = [\"Omar\", \"Hassan\", \"Allam\"]\n",
        "length = 0\n",
        "while length < 3:\n",
        "  length+=1\n",
        "print(\"the length of the list is \" , length)\n",
        "\n"
      ]
    },
    {
      "cell_type": "markdown",
      "id": "19hrUOPJ5rmq",
      "metadata": {
        "id": "19hrUOPJ5rmq"
      },
      "source": [
        "**20-write a Python code to find the Maximum number of list of numbers."
      ]
    },
    {
      "cell_type": "code",
      "execution_count": 69,
      "id": "1a89b9d3",
      "metadata": {
        "id": "1a89b9d3",
        "colab": {
          "base_uri": "https://localhost:8080/"
        },
        "outputId": "cd75a3b8-2f13-4c04-ec7f-fb48835c2f40"
      },
      "outputs": [
        {
          "output_type": "stream",
          "name": "stdout",
          "text": [
            "the maximum number is  10\n"
          ]
        }
      ],
      "source": [
        "# method 1\n",
        "list1=[1,2,3.5,3.7,8.2,8.3,9.99,10]\n",
        "max=0\n",
        "for i in list1:\n",
        "  if i > max:\n",
        "    max = i\n",
        "print(\"the maximum number is \" , max)\n",
        "\n"
      ]
    },
    {
      "cell_type": "markdown",
      "id": "tdz5uTRQ50aA",
      "metadata": {
        "id": "tdz5uTRQ50aA"
      },
      "source": [
        "**21-write a Python code to find the Minimum number of list of numbers."
      ]
    },
    {
      "cell_type": "code",
      "execution_count": 70,
      "id": "21f8cbd6",
      "metadata": {
        "id": "21f8cbd6",
        "colab": {
          "base_uri": "https://localhost:8080/"
        },
        "outputId": "490357c0-92be-433c-84e0-6cb3ed0737aa"
      },
      "outputs": [
        {
          "output_type": "stream",
          "name": "stdout",
          "text": [
            "the minimum number is  1\n"
          ]
        }
      ],
      "source": [
        "list1=[1,2,3.5,3.7,8.2,8.3,9.99,10]\n",
        "min_number=list1[0]\n",
        "for i in list1:\n",
        "  if i < min_number:\n",
        "    min_number = i\n",
        "print(\"the minimum number is \" , min_number)\n"
      ]
    },
    {
      "cell_type": "markdown",
      "id": "96822d96",
      "metadata": {
        "id": "96822d96"
      },
      "source": [
        "**22-search for if an elem is existing in list"
      ]
    },
    {
      "cell_type": "code",
      "execution_count": 3,
      "id": "51ca5c9a",
      "metadata": {
        "id": "51ca5c9a",
        "colab": {
          "base_uri": "https://localhost:8080/"
        },
        "outputId": "775bdffa-461e-4a1f-d639-694feef74f98"
      },
      "outputs": [
        {
          "output_type": "stream",
          "name": "stdout",
          "text": [
            "enter a number 40\n",
            "yes found\n"
          ]
        }
      ],
      "source": [
        "my_list = [10,22,50,88,92,100,40]\n",
        "number = int(input(\"enter a number \"))\n",
        "for num in my_list:\n",
        "  if num == number:\n",
        "    print(\"yes found\")\n",
        "    break\n",
        "else:\n",
        "  print(\"not found\")"
      ]
    },
    {
      "cell_type": "markdown",
      "source": [
        "23- clear python list using differnt ways"
      ],
      "metadata": {
        "id": "mM6lU3VMyjHz"
      },
      "id": "mM6lU3VMyjHz"
    },
    {
      "cell_type": "code",
      "source": [
        "# 1 using clear()\n",
        "my_list = [1,2,3,4,5,6,7,8,9,10]\n",
        "my_list.clear()\n",
        "print(my_list)\n",
        "\n",
        "# 2 Reassign\n",
        "my_list = [1,2,3,4,5,6,7,8,9,10]\n",
        "my_list = []\n",
        "print(my_list)\n",
        "\n",
        "# 3 using pop()\n",
        "my_list = [1,2,3,4,5,6,7,8,9,10]\n",
        "while len(my_list) > 0:\n",
        "  my_list.pop()\n",
        "print(my_list)\n",
        "\n",
        "#4 using del\n",
        "my_list = [1,2,3,4,5,6,7,8,9,10]\n",
        "del my_list[:]\n",
        "print(my_list)\n",
        "\n",
        "#5\n",
        "my_list = [1,2,3,4,5,6,7,8,9,10]\n",
        "my_list = None\n",
        "print(my_list)\n",
        "\n",
        "#6 multiple the list by zero\n",
        "my_list = [1,2,3,4,5,6,7,8,9,10]\n",
        "my_list *= 0\n",
        "print(my_list)\n",
        "\n"
      ],
      "metadata": {
        "colab": {
          "base_uri": "https://localhost:8080/"
        },
        "id": "EKRq9MClygDh",
        "outputId": "3d9464b3-cf8b-4f06-8e00-a32c84df656c"
      },
      "id": "EKRq9MClygDh",
      "execution_count": 6,
      "outputs": [
        {
          "output_type": "stream",
          "name": "stdout",
          "text": [
            "[]\n",
            "[]\n",
            "[]\n",
            "[]\n",
            "None\n",
            "[]\n"
          ]
        }
      ]
    },
    {
      "cell_type": "markdown",
      "id": "52160e88",
      "metadata": {
        "id": "52160e88"
      },
      "source": [
        "**24-remove duplicated elements from a list"
      ]
    },
    {
      "cell_type": "code",
      "execution_count": 11,
      "id": "5e362228",
      "metadata": {
        "id": "5e362228",
        "colab": {
          "base_uri": "https://localhost:8080/"
        },
        "outputId": "59100d3e-467f-4f3e-d0fe-14f59164d2e0"
      },
      "outputs": [
        {
          "output_type": "stream",
          "name": "stdout",
          "text": [
            "[10, 20, 30, 40, 50]\n"
          ]
        }
      ],
      "source": [
        "my_list = [10,20,10,20,30,30,40,50,40,10]\n",
        "new_list = []\n",
        "for num in my_list:\n",
        "  if num not in new_list:\n",
        "    new_list.append(num)\n",
        "print(new_list)"
      ]
    },
    {
      "cell_type": "markdown",
      "id": "c26b6e9f",
      "metadata": {
        "id": "c26b6e9f"
      },
      "source": [
        "**25-write a python program to count unique values inside a list using different ways"
      ]
    },
    {
      "cell_type": "code",
      "execution_count": 15,
      "id": "72132667",
      "metadata": {
        "id": "72132667",
        "colab": {
          "base_uri": "https://localhost:8080/"
        },
        "outputId": "3effb080-a9f2-4101-91e5-7d3836f61963"
      },
      "outputs": [
        {
          "output_type": "stream",
          "name": "stdout",
          "text": [
            "[10, 20, 30, 40, 50]\n",
            "the count of unique values inside a list is  5\n"
          ]
        }
      ],
      "source": [
        "my_list = [10,20,10,20,30,30,40,50,40,10]\n",
        "unique_list = []\n",
        "for num in my_list:\n",
        "  if num not in unique_list:\n",
        "    unique_list.append(num)\n",
        "print(unique_list)\n",
        "print(\"the count of unique values inside a list is \",len(unique_list))\n"
      ]
    },
    {
      "cell_type": "markdown",
      "id": "fed6677c",
      "metadata": {
        "id": "fed6677c"
      },
      "source": [
        "**26-write a python program Extract all elements with Frequency greater than K (Input : test_list = [4, 6, 4, 3, 3, 4, 3, 4, 3, 8], K = 3\n",
        "Output : [4, 3] )"
      ]
    },
    {
      "cell_type": "code",
      "execution_count": null,
      "id": "d81f3f9d",
      "metadata": {
        "id": "d81f3f9d"
      },
      "outputs": [],
      "source": [
        "test_list = [4, 6, 4, 3, 3, 4, 3, 4, 3, 8]\n",
        "k = 3\n",
        "\n"
      ]
    },
    {
      "cell_type": "markdown",
      "id": "caca5224",
      "metadata": {
        "id": "caca5224"
      },
      "source": [
        "**27-write a python program to find the Strongest Neighbour (Input: 1 2 2 3 4 5\n",
        "Output:  5)"
      ]
    },
    {
      "cell_type": "code",
      "execution_count": null,
      "id": "39fbd9b2",
      "metadata": {
        "id": "39fbd9b2"
      },
      "outputs": [],
      "source": []
    },
    {
      "cell_type": "markdown",
      "id": "a9fa8baf",
      "metadata": {
        "id": "a9fa8baf"
      },
      "source": [
        "**28-write a Python Program to print all Possible Combinations from the three Digits (Input: [1, 2, 3]\n",
        "Output:\n",
        "1 2 3 ##\n",
        "1 3 2 ##\n",
        "2 1 3 ##\n",
        "2 3 1 ##\n",
        "3 1 2 ##\n",
        "3 2 1)"
      ]
    },
    {
      "cell_type": "code",
      "execution_count": null,
      "id": "8c520a76",
      "metadata": {
        "id": "8c520a76"
      },
      "outputs": [],
      "source": []
    },
    {
      "cell_type": "markdown",
      "id": "5288bb89",
      "metadata": {
        "id": "5288bb89"
      },
      "source": [
        "**29-write a Python program to find all the Combinations in the list with the given condition (Input: test_list = [1,2,3]\n",
        "Output:\n",
        " [1], [1, 2], [1, 2, 3], [1, 3]\n",
        " [2], [2, 3], [3])"
      ]
    },
    {
      "cell_type": "code",
      "execution_count": null,
      "id": "59b89646",
      "metadata": {
        "id": "59b89646"
      },
      "outputs": [],
      "source": []
    },
    {
      "cell_type": "markdown",
      "id": "39973705",
      "metadata": {
        "id": "39973705"
      },
      "source": [
        "**30-write a Python program to get all unique combinations of two Lists (List_1 = [\"a\",\"b\"]\n",
        "List_2 = [1,2]\n",
        "Unique_combination = [[('a',1),('b',2)],[('a',2),('b',1)]] )"
      ]
    },
    {
      "cell_type": "code",
      "execution_count": null,
      "id": "8c4ba22b",
      "metadata": {
        "id": "8c4ba22b"
      },
      "outputs": [],
      "source": []
    },
    {
      "cell_type": "markdown",
      "id": "255fd554",
      "metadata": {
        "id": "255fd554"
      },
      "source": [
        "**31- Write a Python program that finds all pairs of elements in a list whose sum is equal to a given value."
      ]
    },
    {
      "cell_type": "code",
      "execution_count": 16,
      "id": "c2d94e1f",
      "metadata": {
        "id": "c2d94e1f",
        "colab": {
          "base_uri": "https://localhost:8080/"
        },
        "outputId": "e710daab-c762-4230-b5cd-e0af7662887f"
      },
      "outputs": [
        {
          "output_type": "stream",
          "name": "stdout",
          "text": [
            "[(1, 6), (3, 4), (2, 5)]\n"
          ]
        }
      ],
      "source": [
        "numbers = [1, 3, 2, 5, 4, 6]\n",
        "sum = 7\n",
        "pairs = []\n",
        "for i in range(len(numbers)):\n",
        "  for j in range(i+1,len(numbers)):\n",
        "    if numbers[i] + numbers[j] == sum:\n",
        "      pairs.append((numbers[i],numbers[j]))\n",
        "print(pairs)\n"
      ]
    },
    {
      "cell_type": "markdown",
      "id": "-74fqJe7BnOk",
      "metadata": {
        "id": "-74fqJe7BnOk"
      },
      "source": [
        "**32- I have a string variable called s='maine 200 banana khaye'. This of course is a wrong statement, the correct statement is 'maine 10 samosa khaye'. Replace incorrect words in original strong with new ones and print the new string. Also try to do this in one line."
      ]
    },
    {
      "cell_type": "code",
      "execution_count": 17,
      "id": "OG2czwLvBzQy",
      "metadata": {
        "id": "OG2czwLvBzQy",
        "colab": {
          "base_uri": "https://localhost:8080/"
        },
        "outputId": "d892f987-3cc1-4f9b-d348-d6d2835e2611"
      },
      "outputs": [
        {
          "output_type": "stream",
          "name": "stdout",
          "text": [
            "the correcr statment is   maine 10 samosa khaye\n"
          ]
        }
      ],
      "source": [
        "wrong_string = 'maine 200 banana khaye'\n",
        "new_string = wrong_string.replace('200','10').replace('banana','samosa')\n",
        "print(\"the correcr statment is  \",new_string)\n"
      ]
    },
    {
      "cell_type": "markdown",
      "id": "RXUy-aQmB7UP",
      "metadata": {
        "id": "RXUy-aQmB7UP"
      },
      "source": [
        "**33.  You have a list of your favourite marvel super heros.\n",
        "```\n",
        "heros=['spider man','thor','hulk','iron man','captain america']\n",
        "```\n",
        "\n",
        "Using this find out,\n",
        "\n",
        "    1. Length of the list\n",
        "    2. Add 'black panther' at the end of this list\n",
        "    3. You realize that you need to add 'black panther' after 'hulk',\n",
        "       so remove it from the list first and then add it after 'hulk'\n",
        "    4. Now you don't like thor and hulk because they get angry easily :)\n",
        "       So you want to remove thor and hulk from list and replace them with doctor strange (because he is cool).\n",
        "       Do that with one line of code.\n",
        "    5. Sort the heros list in alphabetical order (Hint. Use dir() functions to list down all functions available in list)"
      ]
    },
    {
      "cell_type": "code",
      "execution_count": null,
      "id": "7QBxB-9eB9U5",
      "metadata": {
        "id": "7QBxB-9eB9U5"
      },
      "outputs": [],
      "source": [
        "#1\n",
        "heros=['spider man','thor','hulk','iron man','captain america']\n",
        "print(\"length of the list is \" , len(heros))\n",
        "\n",
        "#2\n",
        "heros.append('black panther')\n",
        "print(\"the new list is \" , heros)\n",
        "\n",
        "#3\n",
        "heros.remove('black panther')\n",
        "heros.insert(3,'black panther')\n",
        "print(heros)\n",
        "\n",
        "#4\n",
        "heros[1:3] = ['doctor strange']\n",
        "print(heros)\n",
        "\n",
        "#5\n",
        "print(dir(heros))\n",
        "heros.sort()\n",
        "print(heros)"
      ]
    }
  ],
  "metadata": {
    "colab": {
      "provenance": [],
      "include_colab_link": true
    },
    "kernelspec": {
      "display_name": "Python 3 (ipykernel)",
      "language": "python",
      "name": "python3"
    },
    "language_info": {
      "codemirror_mode": {
        "name": "ipython",
        "version": 3
      },
      "file_extension": ".py",
      "mimetype": "text/x-python",
      "name": "python",
      "nbconvert_exporter": "python",
      "pygments_lexer": "ipython3",
      "version": "3.9.13"
    }
  },
  "nbformat": 4,
  "nbformat_minor": 5
}